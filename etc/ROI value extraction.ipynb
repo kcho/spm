{
 "cells": [
  {
   "cell_type": "code",
   "execution_count": 2,
   "metadata": {
    "collapsed": true
   },
   "outputs": [],
   "source": [
    "import nibabel as nb\n",
    "import numpy as np\n",
    "import pandas as pd\n",
    "import os\n",
    "import re\n",
    "import matplotlib\n",
    "import matplotlib.pyplot as plt\n",
    "%matplotlib inline"
   ]
  },
  {
   "cell_type": "code",
   "execution_count": 7,
   "metadata": {
    "collapsed": true
   },
   "outputs": [],
   "source": [
    "firstLevelDir = '/home/kangik/2016_CHJ/GLP_1/IMG_DATA/firstLevel'\n",
    "subjectDirs = [x for x in os.listdir(firstLevelDir)]"
   ]
  },
  {
   "cell_type": "code",
   "execution_count": 11,
   "metadata": {
    "collapsed": false
   },
   "outputs": [],
   "source": [
    "obese_S = [x for x in subjectDirs if x.startswith('obese_S')]\n",
    "obese_G = [x for x in subjectDirs if x.startswith('obese_G')]\n",
    "lean_S = [x for x in subjectDirs if x.startswith('lean_S')]\n",
    "lean_G = [x for x in subjectDirs if x.startswith('lean_G')]"
   ]
  },
  {
   "cell_type": "code",
   "execution_count": 20,
   "metadata": {
    "collapsed": false
   },
   "outputs": [],
   "source": [
    "roiDir = '/home/kangik/2016_CHJ/GLP_1/IMG_DATA/ROIs'\n",
    "rois = [os.path.join(roiDir,x) for x in os.listdir(roiDir) if x.endswith('nii')]"
   ]
  },
  {
   "cell_type": "code",
   "execution_count": 67,
   "metadata": {
    "collapsed": true
   },
   "outputs": [],
   "source": [
    "def get_con_values(subject, con, ROI):\n",
    "\n",
    "    roiF = nb.load(ROI)\n",
    "    roiData = roiF.get_data()\n",
    "    print roiData.mean()\n",
    "    \n",
    "    conLoc = os.path.join(firstLevelDir, subject, 'con_00'+con+'.nii')\n",
    "    conF = nb.load(conLoc)\n",
    "    conData = conF.get_data()\n",
    "    print conData.mean()\n",
    "    \n",
    "    print conLoc, ROI    \n",
    "    roi_con_data = np.ma.masked_array(conData, mask=roiData)\n",
    "    return roi_con_data.mean()"
   ]
  },
  {
   "cell_type": "code",
   "execution_count": 68,
   "metadata": {
    "collapsed": false
   },
   "outputs": [
    {
     "name": "stdout",
     "output_type": "stream",
     "text": [
      "0.000276107836677\n",
      "True\n",
      "nan\n",
      "/home/kangik/2016_CHJ/GLP_1/IMG_DATA/firstLevel/lean_G_JJY/con_0004.nii /home/kangik/2016_CHJ/GLP_1/IMG_DATA/ROIs/MNI_Amygdala_L.nii\n"
     ]
    },
    {
     "data": {
      "text/plain": [
       "memmap(nan)"
      ]
     },
     "execution_count": 68,
     "metadata": {},
     "output_type": "execute_result"
    }
   ],
   "source": [
    "get_con_values(lean_G[0], '04', rois[3])"
   ]
  },
  {
   "cell_type": "code",
   "execution_count": 64,
   "metadata": {
    "collapsed": false
   },
   "outputs": [
    {
     "name": "stdout",
     "output_type": "stream",
     "text": [
      "0.000276107836677\n",
      "nan\n",
      "/home/kangik/2016_CHJ/GLP_1/IMG_DATA/firstLevel/lean_G_JJY/con_0004.nii /home/kangik/MNI_Amygdala_L.nii.gz\n"
     ]
    },
    {
     "data": {
      "text/plain": [
       "memmap(nan)"
      ]
     },
     "execution_count": 64,
     "metadata": {},
     "output_type": "execute_result"
    }
   ],
   "source": [
    "get_con_values(lean_G[0], '04', '/home/kangik/MNI_Amygdala_L.nii.gz')"
   ]
  },
  {
   "cell_type": "code",
   "execution_count": null,
   "metadata": {
    "collapsed": true
   },
   "outputs": [],
   "source": []
  }
 ],
 "metadata": {
  "kernelspec": {
   "display_name": "Python [Root]",
   "language": "python",
   "name": "Python [Root]"
  },
  "language_info": {
   "codemirror_mode": {
    "name": "ipython",
    "version": 2
   },
   "file_extension": ".py",
   "mimetype": "text/x-python",
   "name": "python",
   "nbconvert_exporter": "python",
   "pygments_lexer": "ipython2",
   "version": "2.7.12"
  }
 },
 "nbformat": 4,
 "nbformat_minor": 0
}
